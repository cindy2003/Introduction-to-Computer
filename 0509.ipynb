{
  "nbformat": 4,
  "nbformat_minor": 0,
  "metadata": {
    "colab": {
      "name": "0509.ipynb",
      "provenance": [],
      "authorship_tag": "ABX9TyNorCYdrHo+Z9EzNMimRrGX",
      "include_colab_link": true
    },
    "kernelspec": {
      "name": "python3",
      "display_name": "Python 3"
    },
    "language_info": {
      "name": "python"
    }
  },
  "cells": [
    {
      "cell_type": "markdown",
      "metadata": {
        "id": "view-in-github",
        "colab_type": "text"
      },
      "source": [
        "<a href=\"https://colab.research.google.com/github/cindy2003/Introduction-to-Computer/blob/main/0509.ipynb\" target=\"_parent\"><img src=\"https://colab.research.google.com/assets/colab-badge.svg\" alt=\"Open In Colab\"/></a>"
      ]
    },
    {
      "cell_type": "code",
      "execution_count": 1,
      "metadata": {
        "colab": {
          "base_uri": "https://localhost:8080/"
        },
        "id": "nqvj9LAC6pnx",
        "outputId": "2a7352e6-7fa4-4752-c250-24d292cbba23"
      },
      "outputs": [
        {
          "output_type": "stream",
          "name": "stdout",
          "text": [
            "123\n"
          ]
        }
      ],
      "source": [
        "print(\"123\")"
      ]
    },
    {
      "cell_type": "code",
      "source": [
        "temp= float(input('請輸入你的體溫'))\n",
        "if temp>=37.5:\n",
        "  print('體溫過高!')\n",
        "elif temp>=37 and temp<37.4:\n",
        "  print('體溫略高!')\n",
        "elif temp>=34 and temp<=36.9:\n",
        "  print('體溫正常')\n",
        "else:\n",
        "  print('體溫異常,請重新量測!')"
      ],
      "metadata": {
        "colab": {
          "base_uri": "https://localhost:8080/"
        },
        "id": "1wRK0jJD739_",
        "outputId": "6e750c44-3519-44fc-86df-3d01ff2ee35f"
      },
      "execution_count": 4,
      "outputs": [
        {
          "output_type": "stream",
          "name": "stdout",
          "text": [
            "請輸入你的體溫36\n",
            "體溫正常\n"
          ]
        }
      ]
    },
    {
      "cell_type": "code",
      "source": [
        "成績= input('請輸入成績')\n",
        "if (int(成績) >= 90):\n",
        "  print('A')\n",
        "elif (int(成績) >= 80):\n",
        "  print('B') \n",
        "elif (int(成績) >= 70):\n",
        "  print('C') \n",
        "elif (int(成績) >= 60):\n",
        "  print('D')\n",
        "else:\n",
        "  print('E')"
      ],
      "metadata": {
        "colab": {
          "base_uri": "https://localhost:8080/"
        },
        "id": "wQpwxwvP_pbC",
        "outputId": "fa8bb3d2-24a1-429f-8725-4ff52a0c8338"
      },
      "execution_count": 16,
      "outputs": [
        {
          "output_type": "stream",
          "name": "stdout",
          "text": [
            "請輸入成績50\n",
            "E\n"
          ]
        }
      ]
    },
    {
      "cell_type": "code",
      "source": [
        "money = int(input('請輸入購物金額:'))\n",
        "if (money >= 10000):\n",
        "  if(money >= 10000):\n",
        "    print('八折',money * 0.8, end = '元\\n')\n",
        "  elif(money >= 50000):\n",
        "    print('八五折',money * 0.85, end = '元\\n')\n",
        "  elif(money >= 30000):\n",
        "    print('九折',money * 0.9, end = '元\\n')\n",
        "  else:\n",
        "    print('九五折',money * 0.95, end = '元\\n')\n",
        "else:\n",
        "  print('沒打折',money, end= '元\\n')"
      ],
      "metadata": {
        "colab": {
          "base_uri": "https://localhost:8080/"
        },
        "id": "tH2mUVPVFvnT",
        "outputId": "ae503a7a-7872-44ae-c40d-4195fe80eef1"
      },
      "execution_count": 17,
      "outputs": [
        {
          "output_type": "stream",
          "name": "stdout",
          "text": [
            "請輸入購物金額:1200000\n",
            "八折 960000.0元\n"
          ]
        }
      ]
    },
    {
      "cell_type": "code",
      "source": [
        "季節 = int(input('請輸入月份:'))\n",
        "if (季節>=1 and 季節<=12):\n",
        "  if (季節>=3 and 季節<=5):\n",
        "    print(季節,'月是春天!',sep='')\n",
        "  elif (季節>=6 and 季節<=8):\n",
        "    print(季節,'月是夏天!',sep='')\n",
        "  elif (季節>=9 and 季節<=11):\n",
        "    print(季節,'月是秋天!',sep='')\n",
        "  else:\n",
        "    print(季節,'月是冬天!',sep='')\n",
        "else:\n",
        "  print('月份不在範圍內!')"
      ],
      "metadata": {
        "colab": {
          "base_uri": "https://localhost:8080/"
        },
        "id": "lHaOGZEOE7qJ",
        "outputId": "414876ff-d918-4c51-aa13-ed3d6821c800"
      },
      "execution_count": 44,
      "outputs": [
        {
          "output_type": "stream",
          "name": "stdout",
          "text": [
            "請輸入月份:13\n",
            "月份不在範圍內!\n"
          ]
        }
      ]
    },
    {
      "cell_type": "code",
      "source": [
        "收入= int(input('請輸入今年收入淨額'))\n",
        "if (收入 >=300000):\n",
        "  if (收入 >=2000000):\n",
        "    print(\"付稅金額:\",收入 * 0.3, end =\"元\\n\")\n",
        "  elif(收入>=1000000):\n",
        "    print(\"付稅金額:\",收入 * 0.21, end =\"元\\n\")\n",
        "  elif(收入>=600000):\n",
        "    print(\"付稅金額:\",收入 * 0.13, end =\"元\\n\")\n",
        "  else:\n",
        "    print(\"付稅金額:\",收入 * 0.06, end = \"元\\n\")\n",
        "else:\n",
        "  print(\"付稅金額:0\", end =\"元\\n\")"
      ],
      "metadata": {
        "colab": {
          "base_uri": "https://localhost:8080/"
        },
        "id": "4mcSD9LDNK8i",
        "outputId": "b3cad4de-e809-4a8b-bf93-b6f9fb25b432"
      },
      "execution_count": 57,
      "outputs": [
        {
          "output_type": "stream",
          "name": "stdout",
          "text": [
            "請輸入今年收入淨額5699936\n",
            "付稅金額: 1709980.8元\n"
          ]
        }
      ]
    },
    {
      "cell_type": "code",
      "source": [
        ""
      ],
      "metadata": {
        "id": "BgNEvt95XTM0"
      },
      "execution_count": null,
      "outputs": []
    }
  ]
}