{
  "nbformat": 4,
  "nbformat_minor": 0,
  "metadata": {
    "colab": {
      "name": "0530.ipynb",
      "provenance": [],
      "authorship_tag": "ABX9TyMCzWLa0kWN7qnev89M5otp",
      "include_colab_link": true
    },
    "kernelspec": {
      "name": "python3",
      "display_name": "Python 3"
    },
    "language_info": {
      "name": "python"
    }
  },
  "cells": [
    {
      "cell_type": "markdown",
      "metadata": {
        "id": "view-in-github",
        "colab_type": "text"
      },
      "source": [
        "<a href=\"https://colab.research.google.com/github/cindy2003/Introduction-to-Computer/blob/main/0530.ipynb\" target=\"_parent\"><img src=\"https://colab.research.google.com/assets/colab-badge.svg\" alt=\"Open In Colab\"/></a>"
      ]
    },
    {
      "cell_type": "code",
      "execution_count": null,
      "metadata": {
        "colab": {
          "base_uri": "https://localhost:8080/"
        },
        "id": "WC4F7GPqd5Ru",
        "outputId": "13024c3f-b1a3-4dd2-fe65-3b2253e73129"
      },
      "outputs": [
        {
          "output_type": "stream",
          "name": "stdout",
          "text": [
            "0530\n"
          ]
        }
      ],
      "source": [
        "print(\"0530\")"
      ]
    },
    {
      "cell_type": "markdown",
      "source": [
        "九九乘法"
      ],
      "metadata": {
        "id": "U1ShLUSAe3eS"
      }
    },
    {
      "cell_type": "code",
      "source": [
        "for i in  range(2,10):\n",
        "  for j in range(1,10):\n",
        "    product=i*j\n",
        "    print(\" %d*%d=%2d \" % (i,j,product),end=\"\")\n",
        "  print()"
      ],
      "metadata": {
        "colab": {
          "base_uri": "https://localhost:8080/"
        },
        "id": "dd5FejpDq-7j",
        "outputId": "56641214-6fb3-487c-abc1-09a97ed174c1"
      },
      "execution_count": null,
      "outputs": [
        {
          "output_type": "stream",
          "name": "stdout",
          "text": [
            " 2*1= 2  2*2= 4  2*3= 6  2*4= 8  2*5=10  2*6=12  2*7=14  2*8=16  2*9=18 \n",
            " 3*1= 3  3*2= 6  3*3= 9  3*4=12  3*5=15  3*6=18  3*7=21  3*8=24  3*9=27 \n",
            " 4*1= 4  4*2= 8  4*3=12  4*4=16  4*5=20  4*6=24  4*7=28  4*8=32  4*9=36 \n",
            " 5*1= 5  5*2=10  5*3=15  5*4=20  5*5=25  5*6=30  5*7=35  5*8=40  5*9=45 \n",
            " 6*1= 6  6*2=12  6*3=18  6*4=24  6*5=30  6*6=36  6*7=42  6*8=48  6*9=54 \n",
            " 7*1= 7  7*2=14  7*3=21  7*4=28  7*5=35  7*6=42  7*7=49  7*8=56  7*9=63 \n",
            " 8*1= 8  8*2=16  8*3=24  8*4=32  8*5=40  8*6=48  8*7=56  8*8=64  8*9=72 \n",
            " 9*1= 9  9*2=18  9*3=27  9*4=36  9*5=45  9*6=54  9*7=63  9*8=72  9*9=81 \n"
          ]
        }
      ]
    },
    {
      "cell_type": "markdown",
      "source": [
        "最小公倍數"
      ],
      "metadata": {
        "id": "LoxeVJ-0tOFW"
      }
    },
    {
      "cell_type": "code",
      "source": [
        "a=int(input(\"請輸入a的值\"))\n",
        "b=int(input(\"請輸入b的值\"))\n",
        "\n",
        "maxno= a*b\n",
        "for i in range(1,maxno+1):\n",
        "  if(i % a==0 and i % b ==0):\n",
        "    break\n",
        "print(\"%d和%d的最小公倍數=%d\" %(a,b,i))"
      ],
      "metadata": {
        "colab": {
          "base_uri": "https://localhost:8080/"
        },
        "id": "C2_bYHcmssvn",
        "outputId": "8beea462-2f59-468d-ac1f-cfb36f3bbfd2"
      },
      "execution_count": null,
      "outputs": [
        {
          "output_type": "stream",
          "name": "stdout",
          "text": [
            "請輸入a的值4\n",
            "請輸入b的值6\n",
            "4和6的最小公倍數=12\n"
          ]
        }
      ]
    },
    {
      "cell_type": "markdown",
      "source": [
        "排除數列中5的倍數"
      ],
      "metadata": {
        "id": "3-VkdnXoxnav"
      }
    },
    {
      "cell_type": "code",
      "source": [
        "n = int(input(\"請輸入正整數:\"))\n",
        "for i in range(1,n+1):\n",
        "  if i % 5 == 0:\n",
        "    continue\n",
        "  print(i,end=\" \")"
      ],
      "metadata": {
        "colab": {
          "base_uri": "https://localhost:8080/"
        },
        "id": "k2aDzSWOxNJc",
        "outputId": "99606418-2b85-4d34-cc63-1bf6bc33bb98"
      },
      "execution_count": null,
      "outputs": [
        {
          "output_type": "stream",
          "name": "stdout",
          "text": [
            "請輸入正整數:21\n",
            "1 2 3 4 6 7 8 9 11 12 13 14 16 17 18 19 21 "
          ]
        }
      ]
    },
    {
      "cell_type": "markdown",
      "source": [
        "while"
      ],
      "metadata": {
        "id": "Vr-YwGGqzvh8"
      }
    },
    {
      "cell_type": "code",
      "source": [
        "total = n = 0\n",
        "while(n<=10):\n",
        "  total += n\n",
        "  n += 1\n",
        "print(total)\n",
        "\n"
      ],
      "metadata": {
        "colab": {
          "base_uri": "https://localhost:8080/"
        },
        "id": "5925Ix98y_b_",
        "outputId": "cee5c806-cd80-4b97-f67d-c14e48bc192d"
      },
      "execution_count": null,
      "outputs": [
        {
          "output_type": "stream",
          "name": "stdout",
          "text": [
            "55\n"
          ]
        }
      ]
    },
    {
      "cell_type": "code",
      "source": [
        "total = n = 0\n",
        "while n<= 10:\n",
        "  total += n\n",
        "  n += 1\n",
        "print(total)\n"
      ],
      "metadata": {
        "colab": {
          "base_uri": "https://localhost:8080/"
        },
        "id": "1viM6SYi1aFh",
        "outputId": "b13847d9-e4e1-4708-e028-d3e695015f62"
      },
      "execution_count": null,
      "outputs": [
        {
          "output_type": "stream",
          "name": "stdout",
          "text": [
            "55\n"
          ]
        }
      ]
    },
    {
      "cell_type": "code",
      "source": [
        "total = n = 0\n",
        "while n<=10:\n",
        "  total += n\n",
        "  n += 1\n",
        "  \n",
        "print(total)\n"
      ],
      "metadata": {
        "colab": {
          "base_uri": "https://localhost:8080/"
        },
        "id": "Ole_Hjai4BSd",
        "outputId": "2ae1cfa8-e096-4110-908e-35dc295bb32f"
      },
      "execution_count": null,
      "outputs": [
        {
          "output_type": "stream",
          "name": "stdout",
          "text": [
            "55\n"
          ]
        }
      ]
    },
    {
      "cell_type": "code",
      "source": [
        "total = i = 1\n",
        "n = int(input(\"請輸入正整數n的數值: \"))\n",
        "while i <=n:\n",
        "  total *= i\n",
        "  i+=1\n",
        "print(\"%d!=%d\" % (n,total))\n"
      ],
      "metadata": {
        "colab": {
          "base_uri": "https://localhost:8080/"
        },
        "id": "2W5tmrAa4JRA",
        "outputId": "dd05acb6-1d59-41ad-d60b-e29d3c32f214"
      },
      "execution_count": null,
      "outputs": [
        {
          "output_type": "stream",
          "name": "stdout",
          "text": [
            "請輸入正整數n的數值: 100\n",
            "100!=93326215443944152681699238856266700490715968264381621468592963895217599993229915608941463976156518286253697920827223758251185210916864000000000000000000000000\n"
          ]
        }
      ]
    },
    {
      "cell_type": "code",
      "source": [
        "sum=0\n",
        "n=50\n",
        "while n > 0:\n",
        "  sum=sum+n\n",
        "  n=n-2\n",
        "print(sum)"
      ],
      "metadata": {
        "colab": {
          "base_uri": "https://localhost:8080/"
        },
        "id": "mxMbPBFu5VOO",
        "outputId": "23f8cd81-d05e-4fbd-f184-a3f18ca26bc2"
      },
      "execution_count": null,
      "outputs": [
        {
          "output_type": "stream",
          "name": "stdout",
          "text": [
            "650\n"
          ]
        }
      ]
    },
    {
      "cell_type": "code",
      "source": [
        "sum=0\n",
        "n=50\n",
        "while n > 0:\n",
        "  sum=sum+n\n",
        "  n=n+1\n",
        "print(sum)"
      ],
      "metadata": {
        "id": "5ec2zyMPCkQi"
      },
      "execution_count": null,
      "outputs": []
    },
    {
      "cell_type": "code",
      "source": [
        "n=int(input(\"請輸入正整數\"))\n",
        "for i in range(n):\n",
        "  print((n-i) * '* ')\n"
      ],
      "metadata": {
        "id": "7uumPZ2kGVqW",
        "colab": {
          "base_uri": "https://localhost:8080/"
        },
        "outputId": "5404c6ec-aab6-49fe-94a0-c22b2d8d77b1"
      },
      "execution_count": 60,
      "outputs": [
        {
          "output_type": "stream",
          "name": "stdout",
          "text": [
            "請輸入正整數7\n",
            "* * * * * * * \n",
            "* * * * * * \n",
            "* * * * * \n",
            "* * * * \n",
            "* * * \n",
            "* * \n",
            "* \n"
          ]
        }
      ]
    },
    {
      "cell_type": "code",
      "source": [
        "n=int(input(\"請輸入正整數\"))\n",
        "for i in range(n):\n",
        "    print(\"* \" * (n-i))"
      ],
      "metadata": {
        "colab": {
          "base_uri": "https://localhost:8080/"
        },
        "id": "AwjIJS0uKzmF",
        "outputId": "7dc049d9-4134-4309-f441-ca904e4d893a"
      },
      "execution_count": 61,
      "outputs": [
        {
          "output_type": "stream",
          "name": "stdout",
          "text": [
            "請輸入正整數5\n",
            "* * * * * \n",
            "* * * * \n",
            "* * * \n",
            "* * \n",
            "* \n"
          ]
        }
      ]
    },
    {
      "cell_type": "code",
      "source": [
        "sum=0\n",
        "for i in range(1,101):\n",
        "  if i % 3 ==0 or i % 7 ==0:\n",
        "    sum+=i\n",
        "print(\"數值1～100中,所有是3或7倍數的數之總和 = \" + str(sum))"
      ],
      "metadata": {
        "colab": {
          "base_uri": "https://localhost:8080/"
        },
        "id": "pV5JEquPIi3T",
        "outputId": "1022c1d0-c183-4277-b351-7225089da515"
      },
      "execution_count": 67,
      "outputs": [
        {
          "output_type": "stream",
          "name": "stdout",
          "text": [
            "數值1～100中,所有是3或7倍數的數之總和 = 2208\n"
          ]
        }
      ]
    },
    {
      "cell_type": "code",
      "source": [
        "n=int(input(\"請輸入一個正整數:\"))\n",
        "for i in range(2,n):\n",
        "  if n % i ==0:\n",
        "    print(str(n)+\"不是質數\")\n",
        "    break\n",
        "else:\n",
        "  print(str(n)+\"是質數\")"
      ],
      "metadata": {
        "colab": {
          "base_uri": "https://localhost:8080/"
        },
        "id": "3Z3LJ8SWMnMZ",
        "outputId": "f4732f9f-0166-4509-9178-dd90825f6155"
      },
      "execution_count": 69,
      "outputs": [
        {
          "output_type": "stream",
          "name": "stdout",
          "text": [
            "請輸入一個正整數:12\n",
            "12不是質數\n"
          ]
        }
      ]
    },
    {
      "cell_type": "code",
      "source": [
        "n=int(input(\"請輸入一個正整數:\"))\n",
        "for i in range(2,n):\n",
        "  if n % i ==0:\n",
        "    print(str(n)+\"不是質數\")\n",
        "    break\n",
        "else:\n",
        "  print(str(n)+\"是質數\")"
      ],
      "metadata": {
        "colab": {
          "base_uri": "https://localhost:8080/"
        },
        "id": "wV9Yh1XsMXtO",
        "outputId": "66657f92-7b4a-4298-fe0c-adb1a8f9695f"
      },
      "execution_count": 70,
      "outputs": [
        {
          "output_type": "stream",
          "name": "stdout",
          "text": [
            "請輸入一個正整數:11\n",
            "11是質數\n"
          ]
        }
      ]
    }
  ]
}